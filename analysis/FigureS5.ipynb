{
 "cells": [
  {
   "cell_type": "markdown",
   "metadata": {},
   "source": [
    "# Supplementary Figure 5"
   ]
  },
  {
   "cell_type": "code",
   "execution_count": 1,
   "metadata": {},
   "outputs": [],
   "source": [
    "from utils import *\n",
    "from plot_params import *\n",
    "from scipy.stats import pearsonr, kurtosis, ks_2samp\n",
    "from scikit_posthocs import posthoc_dunn\n",
    "from scipy.stats import iqr, wilcoxon\n",
    "from scipy.special import xlogy\n",
    "from scipy.spatial.distance import pdist\n",
    "from itertools import compress"
   ]
  },
  {
   "cell_type": "code",
   "execution_count": 2,
   "metadata": {},
   "outputs": [],
   "source": [
    "save = True\n",
    "savepath = r'D:\\Data\\DeepMouse\\Figures\\FigureS5'"
   ]
  },
  {
   "cell_type": "code",
   "execution_count": 3,
   "metadata": {},
   "outputs": [],
   "source": [
    "fp = r'D:\\Data\\DeepMouse\\Results\\generalisation\\activations_filtered2.npy'\n",
    "data = np.load(fp, allow_pickle=1).item()\n",
    "data_sum = []\n",
    "for i, region in enumerate(regions):\n",
    "    own = data[region][i]\n",
    "    mask = np.ones(len(regions)+1).astype(bool)\n",
    "    mask[i] = False\n",
    "    mask[-1] = False\n",
    "    other = np.concatenate(list(compress(data[region], mask)), axis=0)\n",
    "    nat = data[region][-1]\n",
    "    data_sum.append([own, other, nat])"
   ]
  },
  {
   "cell_type": "code",
   "execution_count": 4,
   "metadata": {},
   "outputs": [
    {
     "name": "stderr",
     "output_type": "stream",
     "text": [
      "c:\\Users\\rudit\\anaconda3\\envs\\mnp_torch\\lib\\site-packages\\ipykernel_launcher.py:1: VisibleDeprecationWarning: Creating an ndarray from ragged nested sequences (which is a list-or-tuple of lists-or-tuples-or ndarrays with different lengths or shapes) is deprecated. If you meant to do this, you must specify 'dtype=object' when creating the ndarray.\n",
      "  \"\"\"Entry point for launching an IPython kernel.\n"
     ]
    }
   ],
   "source": [
    "neuronmean = np.array([[np.median(data_sum[i][j], axis=0) for j in range(2)] for i in range(len(regions))])"
   ]
  },
  {
   "cell_type": "code",
   "execution_count": 13,
   "metadata": {},
   "outputs": [],
   "source": [
    "def plot_box(data, figsize=(6,5), ylabel=''):\n",
    "    '''Plot wdf data as boxplots'''\n",
    "    fig, ax = pl.subplots(figsize=figsize)\n",
    "\n",
    "    lw = 0.5\n",
    "    for i, region in enumerate(regions):\n",
    "        # x = np.arange(1,3)+i*2+i\n",
    "        # for j in range(data[i][0].shape[0]):\n",
    "        #     ax.plot(x, [data[i][0][j], data[i][1][j]], 'k-', lw=.1, alpha=.2)\n",
    "        # ax.plot(x, [np.median(data[i][0]), np.median(data[i][1])], ls='-', marker='s', color=colors[i], lw=1, ms=2)\n",
    "        bp1 = ax.boxplot(data[i], showfliers=False, positions=np.arange(1,3)+i*2+i, widths=0.6, \n",
    "                        patch_artist=True, medianprops=dict(color='k', linewidth=lw), boxprops=dict(linewidth=lw), whiskerprops=dict(linewidth=lw),\n",
    "                        capprops=dict(linewidth=lw))\n",
    "        print(wilcoxon(data[i][0], data[i][1]))\n",
    "\n",
    "        cs = [colors[i], [.4]*3]\n",
    "        for patch, color in zip(bp1['boxes'], cs):\n",
    "            patch.set_facecolor(color)\n",
    "\n",
    "    ax.set_ylabel(ylabel)\n",
    "    ax.set_xlim(0,len(regions)*2+len(regions))\n",
    "    ax.set_xticks(np.arange(1.5, (len(regions))*3, 3))\n",
    "    ax.set_xticklabels(regions)\n",
    "    return fig"
   ]
  },
  {
   "cell_type": "code",
   "execution_count": 15,
   "metadata": {},
   "outputs": [
    {
     "name": "stdout",
     "output_type": "stream",
     "text": [
      "WilcoxonResult(statistic=250896.0, pvalue=4.431797185025997e-60)\n",
      "WilcoxonResult(statistic=508964.0, pvalue=0.05746195952024878)\n",
      "WilcoxonResult(statistic=167178.0, pvalue=3.0836756369737703e-40)\n",
      "WilcoxonResult(statistic=136369.0, pvalue=7.199080549331723e-50)\n",
      "WilcoxonResult(statistic=292338.0, pvalue=1.1308293422315094e-21)\n",
      "WilcoxonResult(statistic=126887.0, pvalue=3.654546694312355e-22)\n"
     ]
    },
    {
     "data": {
      "image/png": "[encoded data removed]",
      "text/plain": [
       "<Figure size 200x180 with 1 Axes>"
      ]
     },
     "metadata": {},
     "output_type": "display_data"
    }
   ],
   "source": [
    "fig = plot_box(neuronmean, figsize=(2,1.8))\n",
    "if save:\n",
    "    fig.savefig(os.path.join(savepath, 'insilico_validation.eps'), bbox_inches='tight')"
   ]
  }
 ],
 "metadata": {
  "kernelspec": {
   "display_name": "mnp_torch",
   "language": "python",
   "name": "python3"
  },
  "language_info": {
   "codemirror_mode": {
    "name": "ipython",
    "version": 3
   },
   "file_extension": ".py",
   "mimetype": "text/x-python",
   "name": "python",
   "nbconvert_exporter": "python",
   "pygments_lexer": "ipython3",
   "version": "3.7.13"
  }
 },
 "nbformat": 4,
 "nbformat_minor": 2
}
